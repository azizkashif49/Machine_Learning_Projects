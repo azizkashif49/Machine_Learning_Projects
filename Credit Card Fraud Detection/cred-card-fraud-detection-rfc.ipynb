{
 "cells": [
  {
   "cell_type": "markdown",
   "id": "a557ac3f",
   "metadata": {
    "papermill": {
     "duration": 0.005343,
     "end_time": "2023-12-07T15:56:18.212586",
     "exception": false,
     "start_time": "2023-12-07T15:56:18.207243",
     "status": "completed"
    },
    "tags": []
   },
   "source": [
    "Credit Card Fraud Detection Code\n",
    "\n",
    "This Python script is designed for credit card fraud detection using a machine learning approach, particularly with a Random Forest Classifier.\n",
    "\n",
    "The script performs the following steps:\n",
    "\n",
    "1. Load and Explore Data:\n",
    "   - Load the dataset using Pandas.\n",
    "   - Display a preview of the dataset, its shape, and basic statistics.\n",
    "   - Determine the number of fraud and valid transactions.\n",
    "\n",
    "\n",
    "\n",
    "2. Data Visualization:\n",
    "   - Visualize the correlation matrix using a heatmap to understand feature relationships.\n",
    "\n",
    "\n",
    "\n",
    "3. Data Preprocessing:\n",
    "   - Split the dataset into features (X) and the target variable (Y).\n",
    "   - Split the data into training and testing sets.\n",
    "\n",
    "\n",
    "\n",
    "4. Random Forest Classifier:\n",
    "   - Build a Random Forest Classifier model.\n",
    "   - Train the model on the training set.\n",
    "   - Make predictions on the test set.\n",
    "\n",
    "\n",
    "\n",
    "5. Model Evaluation:\n",
    "   - Evaluate the model using various metrics such as accuracy, precision, recall, F1-score, and Matthews correlation coefficient.\n",
    "   - Display a confusion matrix to visualize the classifier's performance.\n"
   ]
  },
  {
   "cell_type": "code",
   "execution_count": 1,
   "id": "bc4f1539",
   "metadata": {
    "_cell_guid": "b1076dfc-b9ad-4769-8c92-a6c4dae69d19",
    "_uuid": "8f2839f25d086af736a60e9eeb907d3b93b6e0e5",
    "execution": {
     "iopub.execute_input": "2023-12-07T15:56:18.224135Z",
     "iopub.status.busy": "2023-12-07T15:56:18.223262Z",
     "iopub.status.idle": "2023-12-07T15:56:20.369055Z",
     "shell.execute_reply": "2023-12-07T15:56:20.368151Z"
    },
    "papermill": {
     "duration": 2.15409,
     "end_time": "2023-12-07T15:56:20.371608",
     "exception": false,
     "start_time": "2023-12-07T15:56:18.217518",
     "status": "completed"
    },
    "tags": []
   },
   "outputs": [],
   "source": [
    "# Import necessary libraries\n",
    "import numpy as np\n",
    "import pandas as pd\n",
    "import matplotlib.pyplot as plt\n",
    "import seaborn as sns\n",
    "from matplotlib import gridspec\n",
    "from sklearn.ensemble import RandomForestClassifier\n",
    "from sklearn.model_selection import train_test_split\n",
    "from sklearn.metrics import classification_report, accuracy_score, precision_score, recall_score, f1_score, matthews_corrcoef, confusion_matrix"
   ]
  },
  {
   "cell_type": "code",
   "execution_count": 2,
   "id": "e4097687",
   "metadata": {
    "execution": {
     "iopub.execute_input": "2023-12-07T15:56:20.382694Z",
     "iopub.status.busy": "2023-12-07T15:56:20.382137Z",
     "iopub.status.idle": "2023-12-07T15:56:24.560113Z",
     "shell.execute_reply": "2023-12-07T15:56:24.559009Z"
    },
    "papermill": {
     "duration": 4.186261,
     "end_time": "2023-12-07T15:56:24.562542",
     "exception": false,
     "start_time": "2023-12-07T15:56:20.376281",
     "status": "completed"
    },
    "tags": []
   },
   "outputs": [],
   "source": [
    "# Load the dataset from the CSV file using pandas\n",
    "data = pd.read_csv(\"/kaggle/input/creditcardfraud/creditcard.csv\")"
   ]
  },
  {
   "cell_type": "code",
   "execution_count": 3,
   "id": "6b8210bd",
   "metadata": {
    "execution": {
     "iopub.execute_input": "2023-12-07T15:56:24.574633Z",
     "iopub.status.busy": "2023-12-07T15:56:24.573683Z",
     "iopub.status.idle": "2023-12-07T15:56:24.609424Z",
     "shell.execute_reply": "2023-12-07T15:56:24.607828Z"
    },
    "papermill": {
     "duration": 0.044695,
     "end_time": "2023-12-07T15:56:24.612417",
     "exception": false,
     "start_time": "2023-12-07T15:56:24.567722",
     "status": "completed"
    },
    "tags": []
   },
   "outputs": [
    {
     "name": "stdout",
     "output_type": "stream",
     "text": [
      "Preview of the dataset:\n",
      "   Time        V1        V2        V3        V4        V5        V6        V7  \\\n",
      "0   0.0 -1.359807 -0.072781  2.536347  1.378155 -0.338321  0.462388  0.239599   \n",
      "1   0.0  1.191857  0.266151  0.166480  0.448154  0.060018 -0.082361 -0.078803   \n",
      "2   1.0 -1.358354 -1.340163  1.773209  0.379780 -0.503198  1.800499  0.791461   \n",
      "3   1.0 -0.966272 -0.185226  1.792993 -0.863291 -0.010309  1.247203  0.237609   \n",
      "4   2.0 -1.158233  0.877737  1.548718  0.403034 -0.407193  0.095921  0.592941   \n",
      "\n",
      "         V8        V9  ...       V21       V22       V23       V24       V25  \\\n",
      "0  0.098698  0.363787  ... -0.018307  0.277838 -0.110474  0.066928  0.128539   \n",
      "1  0.085102 -0.255425  ... -0.225775 -0.638672  0.101288 -0.339846  0.167170   \n",
      "2  0.247676 -1.514654  ...  0.247998  0.771679  0.909412 -0.689281 -0.327642   \n",
      "3  0.377436 -1.387024  ... -0.108300  0.005274 -0.190321 -1.175575  0.647376   \n",
      "4 -0.270533  0.817739  ... -0.009431  0.798278 -0.137458  0.141267 -0.206010   \n",
      "\n",
      "        V26       V27       V28  Amount  Class  \n",
      "0 -0.189115  0.133558 -0.021053  149.62      0  \n",
      "1  0.125895 -0.008983  0.014724    2.69      0  \n",
      "2 -0.139097 -0.055353 -0.059752  378.66      0  \n",
      "3 -0.221929  0.062723  0.061458  123.50      0  \n",
      "4  0.502292  0.219422  0.215153   69.99      0  \n",
      "\n",
      "[5 rows x 31 columns]\n"
     ]
    }
   ],
   "source": [
    "# Display the first few rows of the dataset\n",
    "print(\"Preview of the dataset:\")\n",
    "print(data.head())"
   ]
  },
  {
   "cell_type": "code",
   "execution_count": 4,
   "id": "128a9f4a",
   "metadata": {
    "execution": {
     "iopub.execute_input": "2023-12-07T15:56:24.624585Z",
     "iopub.status.busy": "2023-12-07T15:56:24.623605Z",
     "iopub.status.idle": "2023-12-07T15:56:25.076476Z",
     "shell.execute_reply": "2023-12-07T15:56:25.075479Z"
    },
    "papermill": {
     "duration": 0.462591,
     "end_time": "2023-12-07T15:56:25.079883",
     "exception": false,
     "start_time": "2023-12-07T15:56:24.617292",
     "status": "completed"
    },
    "tags": []
   },
   "outputs": [
    {
     "name": "stdout",
     "output_type": "stream",
     "text": [
      "\n",
      "Dataset Shape:\n",
      "(284807, 31)\n",
      "\n",
      "Basic Statistics:\n",
      "                Time            V1            V2            V3            V4  \\\n",
      "count  284807.000000  2.848070e+05  2.848070e+05  2.848070e+05  2.848070e+05   \n",
      "mean    94813.859575  1.168375e-15  3.416908e-16 -1.379537e-15  2.074095e-15   \n",
      "std     47488.145955  1.958696e+00  1.651309e+00  1.516255e+00  1.415869e+00   \n",
      "min         0.000000 -5.640751e+01 -7.271573e+01 -4.832559e+01 -5.683171e+00   \n",
      "25%     54201.500000 -9.203734e-01 -5.985499e-01 -8.903648e-01 -8.486401e-01   \n",
      "50%     84692.000000  1.810880e-02  6.548556e-02  1.798463e-01 -1.984653e-02   \n",
      "75%    139320.500000  1.315642e+00  8.037239e-01  1.027196e+00  7.433413e-01   \n",
      "max    172792.000000  2.454930e+00  2.205773e+01  9.382558e+00  1.687534e+01   \n",
      "\n",
      "                 V5            V6            V7            V8            V9  \\\n",
      "count  2.848070e+05  2.848070e+05  2.848070e+05  2.848070e+05  2.848070e+05   \n",
      "mean   9.604066e-16  1.487313e-15 -5.556467e-16  1.213481e-16 -2.406331e-15   \n",
      "std    1.380247e+00  1.332271e+00  1.237094e+00  1.194353e+00  1.098632e+00   \n",
      "min   -1.137433e+02 -2.616051e+01 -4.355724e+01 -7.321672e+01 -1.343407e+01   \n",
      "25%   -6.915971e-01 -7.682956e-01 -5.540759e-01 -2.086297e-01 -6.430976e-01   \n",
      "50%   -5.433583e-02 -2.741871e-01  4.010308e-02  2.235804e-02 -5.142873e-02   \n",
      "75%    6.119264e-01  3.985649e-01  5.704361e-01  3.273459e-01  5.971390e-01   \n",
      "max    3.480167e+01  7.330163e+01  1.205895e+02  2.000721e+01  1.559499e+01   \n",
      "\n",
      "       ...           V21           V22           V23           V24  \\\n",
      "count  ...  2.848070e+05  2.848070e+05  2.848070e+05  2.848070e+05   \n",
      "mean   ...  1.654067e-16 -3.568593e-16  2.578648e-16  4.473266e-15   \n",
      "std    ...  7.345240e-01  7.257016e-01  6.244603e-01  6.056471e-01   \n",
      "min    ... -3.483038e+01 -1.093314e+01 -4.480774e+01 -2.836627e+00   \n",
      "25%    ... -2.283949e-01 -5.423504e-01 -1.618463e-01 -3.545861e-01   \n",
      "50%    ... -2.945017e-02  6.781943e-03 -1.119293e-02  4.097606e-02   \n",
      "75%    ...  1.863772e-01  5.285536e-01  1.476421e-01  4.395266e-01   \n",
      "max    ...  2.720284e+01  1.050309e+01  2.252841e+01  4.584549e+00   \n",
      "\n",
      "                V25           V26           V27           V28         Amount  \\\n",
      "count  2.848070e+05  2.848070e+05  2.848070e+05  2.848070e+05  284807.000000   \n",
      "mean   5.340915e-16  1.683437e-15 -3.660091e-16 -1.227390e-16      88.349619   \n",
      "std    5.212781e-01  4.822270e-01  4.036325e-01  3.300833e-01     250.120109   \n",
      "min   -1.029540e+01 -2.604551e+00 -2.256568e+01 -1.543008e+01       0.000000   \n",
      "25%   -3.171451e-01 -3.269839e-01 -7.083953e-02 -5.295979e-02       5.600000   \n",
      "50%    1.659350e-02 -5.213911e-02  1.342146e-03  1.124383e-02      22.000000   \n",
      "75%    3.507156e-01  2.409522e-01  9.104512e-02  7.827995e-02      77.165000   \n",
      "max    7.519589e+00  3.517346e+00  3.161220e+01  3.384781e+01   25691.160000   \n",
      "\n",
      "               Class  \n",
      "count  284807.000000  \n",
      "mean        0.001727  \n",
      "std         0.041527  \n",
      "min         0.000000  \n",
      "25%         0.000000  \n",
      "50%         0.000000  \n",
      "75%         0.000000  \n",
      "max         1.000000  \n",
      "\n",
      "[8 rows x 31 columns]\n"
     ]
    }
   ],
   "source": [
    "# Display the shape and basic statistics of the dataset\n",
    "print(\"\\nDataset Shape:\")\n",
    "print(data.shape)\n",
    "print(\"\\nBasic Statistics:\")\n",
    "print(data.describe())"
   ]
  },
  {
   "cell_type": "code",
   "execution_count": 5,
   "id": "80e8f593",
   "metadata": {
    "execution": {
     "iopub.execute_input": "2023-12-07T15:56:25.092716Z",
     "iopub.status.busy": "2023-12-07T15:56:25.091748Z",
     "iopub.status.idle": "2023-12-07T15:56:25.142018Z",
     "shell.execute_reply": "2023-12-07T15:56:25.140616Z"
    },
    "papermill": {
     "duration": 0.059266,
     "end_time": "2023-12-07T15:56:25.144316",
     "exception": false,
     "start_time": "2023-12-07T15:56:25.085050",
     "status": "completed"
    },
    "tags": []
   },
   "outputs": [
    {
     "name": "stdout",
     "output_type": "stream",
     "text": [
      "\n",
      "Fraud Cases: 492\n",
      "Valid Transactions: 284315\n",
      "Outlier Fraction: 0.0017\n"
     ]
    }
   ],
   "source": [
    "# Determine the number of fraud cases in the dataset\n",
    "fraud = data[data['Class'] == 1]\n",
    "valid = data[data['Class'] == 0]\n",
    "outlier_fraction = len(fraud) / float(len(valid))\n",
    "print(\"\\nFraud Cases: {}\".format(len(fraud)))\n",
    "print(\"Valid Transactions: {}\".format(len(valid)))\n",
    "print(\"Outlier Fraction: {:.4f}\".format(outlier_fraction))"
   ]
  },
  {
   "cell_type": "code",
   "execution_count": 6,
   "id": "843d49e6",
   "metadata": {
    "execution": {
     "iopub.execute_input": "2023-12-07T15:56:25.159206Z",
     "iopub.status.busy": "2023-12-07T15:56:25.158371Z",
     "iopub.status.idle": "2023-12-07T15:56:25.168832Z",
     "shell.execute_reply": "2023-12-07T15:56:25.167737Z"
    },
    "papermill": {
     "duration": 0.022172,
     "end_time": "2023-12-07T15:56:25.172166",
     "exception": false,
     "start_time": "2023-12-07T15:56:25.149994",
     "status": "completed"
    },
    "tags": []
   },
   "outputs": [
    {
     "name": "stdout",
     "output_type": "stream",
     "text": [
      "\n",
      "Amount details of the fraudulent transactions:\n",
      "count     492.000000\n",
      "mean      122.211321\n",
      "std       256.683288\n",
      "min         0.000000\n",
      "25%         1.000000\n",
      "50%         9.250000\n",
      "75%       105.890000\n",
      "max      2125.870000\n",
      "Name: Amount, dtype: float64\n"
     ]
    }
   ],
   "source": [
    "# Display amount details of fraudulent transactions\n",
    "print(\"\\nAmount details of the fraudulent transactions:\")\n",
    "print(fraud.Amount.describe())"
   ]
  },
  {
   "cell_type": "code",
   "execution_count": 7,
   "id": "60b62bd8",
   "metadata": {
    "execution": {
     "iopub.execute_input": "2023-12-07T15:56:25.187314Z",
     "iopub.status.busy": "2023-12-07T15:56:25.186654Z",
     "iopub.status.idle": "2023-12-07T15:56:25.211618Z",
     "shell.execute_reply": "2023-12-07T15:56:25.210531Z"
    },
    "papermill": {
     "duration": 0.035455,
     "end_time": "2023-12-07T15:56:25.214266",
     "exception": false,
     "start_time": "2023-12-07T15:56:25.178811",
     "status": "completed"
    },
    "tags": []
   },
   "outputs": [
    {
     "name": "stdout",
     "output_type": "stream",
     "text": [
      "\n",
      "Details of valid transactions:\n",
      "count    284315.000000\n",
      "mean         88.291022\n",
      "std         250.105092\n",
      "min           0.000000\n",
      "25%           5.650000\n",
      "50%          22.000000\n",
      "75%          77.050000\n",
      "max       25691.160000\n",
      "Name: Amount, dtype: float64\n"
     ]
    }
   ],
   "source": [
    "# Display amount details of valid transactions\n",
    "print(\"\\nDetails of valid transactions:\")\n",
    "print(valid.Amount.describe())"
   ]
  },
  {
   "cell_type": "code",
   "execution_count": 8,
   "id": "e8e0482f",
   "metadata": {
    "execution": {
     "iopub.execute_input": "2023-12-07T15:56:25.231278Z",
     "iopub.status.busy": "2023-12-07T15:56:25.230918Z",
     "iopub.status.idle": "2023-12-07T15:56:26.715216Z",
     "shell.execute_reply": "2023-12-07T15:56:26.714115Z"
    },
    "papermill": {
     "duration": 1.493277,
     "end_time": "2023-12-07T15:56:26.717492",
     "exception": false,
     "start_time": "2023-12-07T15:56:25.224215",
     "status": "completed"
    },
    "tags": []
   },
   "outputs": [
    {
     "data": {
      "image/png": "[encoded data removed]",
      "text/plain": [
       "<Figure size 1200x900 with 2 Axes>"
      ]
     },
     "metadata": {},
     "output_type": "display_data"
    }
   ],
   "source": [
    "# Visualize the correlation matrix\n",
    "corr_matrix = data.corr()\n",
    "plt.figure(figsize=(12, 9))\n",
    "sns.heatmap(corr_matrix, vmax=0.8, square=True)\n",
    "plt.title(\"Correlation Matrix\")\n",
    "plt.show()"
   ]
  },
  {
   "cell_type": "code",
   "execution_count": 9,
   "id": "ae9963d2",
   "metadata": {
    "execution": {
     "iopub.execute_input": "2023-12-07T15:56:26.731658Z",
     "iopub.status.busy": "2023-12-07T15:56:26.730954Z",
     "iopub.status.idle": "2023-12-07T15:56:26.762233Z",
     "shell.execute_reply": "2023-12-07T15:56:26.761090Z"
    },
    "papermill": {
     "duration": 0.040892,
     "end_time": "2023-12-07T15:56:26.764539",
     "exception": false,
     "start_time": "2023-12-07T15:56:26.723647",
     "status": "completed"
    },
    "tags": []
   },
   "outputs": [],
   "source": [
    "# Divide the data into features (X) and target variable (Y)\n",
    "X = data.drop(['Class'], axis=1)\n",
    "Y = data[\"Class\"]"
   ]
  },
  {
   "cell_type": "code",
   "execution_count": 10,
   "id": "a7191f55",
   "metadata": {
    "execution": {
     "iopub.execute_input": "2023-12-07T15:56:26.779043Z",
     "iopub.status.busy": "2023-12-07T15:56:26.777993Z",
     "iopub.status.idle": "2023-12-07T15:56:26.877954Z",
     "shell.execute_reply": "2023-12-07T15:56:26.877018Z"
    },
    "papermill": {
     "duration": 0.109446,
     "end_time": "2023-12-07T15:56:26.880304",
     "exception": false,
     "start_time": "2023-12-07T15:56:26.770858",
     "status": "completed"
    },
    "tags": []
   },
   "outputs": [],
   "source": [
    "# Split the data into training and testing sets\n",
    "x_train, x_test, y_train, y_test = train_test_split(X, Y, test_size=0.2, random_state=42)"
   ]
  },
  {
   "cell_type": "code",
   "execution_count": 11,
   "id": "9bf6d0bb",
   "metadata": {
    "execution": {
     "iopub.execute_input": "2023-12-07T15:56:26.894670Z",
     "iopub.status.busy": "2023-12-07T15:56:26.893593Z",
     "iopub.status.idle": "2023-12-07T16:00:57.010523Z",
     "shell.execute_reply": "2023-12-07T16:00:57.009373Z"
    },
    "papermill": {
     "duration": 270.132591,
     "end_time": "2023-12-07T16:00:57.019075",
     "exception": false,
     "start_time": "2023-12-07T15:56:26.886484",
     "status": "completed"
    },
    "tags": []
   },
   "outputs": [
    {
     "data": {
      "text/html": [
       "<style>#sk-container-id-1 {color: black;background-color: white;}#sk-container-id-1 pre{padding: 0;}#sk-container-id-1 div.sk-toggleable {background-color: white;}#sk-container-id-1 label.sk-toggleable__label {cursor: pointer;display: block;width: 100%;margin-bottom: 0;padding: 0.3em;box-sizing: border-box;text-align: center;}#sk-container-id-1 label.sk-toggleable__label-arrow:before {content: \"▸\";float: left;margin-right: 0.25em;color: #696969;}#sk-container-id-1 label.sk-toggleable__label-arrow:hover:before {color: black;}#sk-container-id-1 div.sk-estimator:hover label.sk-toggleable__label-arrow:before {color: black;}#sk-container-id-1 div.sk-toggleable__content {max-height: 0;max-width: 0;overflow: hidden;text-align: left;background-color: #f0f8ff;}#sk-container-id-1 div.sk-toggleable__content pre {margin: 0.2em;color: black;border-radius: 0.25em;background-color: #f0f8ff;}#sk-container-id-1 input.sk-toggleable__control:checked~div.sk-toggleable__content {max-height: 200px;max-width: 100%;overflow: auto;}#sk-container-id-1 input.sk-toggleable__control:checked~label.sk-toggleable__label-arrow:before {content: \"▾\";}#sk-container-id-1 div.sk-estimator input.sk-toggleable__control:checked~label.sk-toggleable__label {background-color: #d4ebff;}#sk-container-id-1 div.sk-label input.sk-toggleable__control:checked~label.sk-toggleable__label {background-color: #d4ebff;}#sk-container-id-1 input.sk-hidden--visually {border: 0;clip: rect(1px 1px 1px 1px);clip: rect(1px, 1px, 1px, 1px);height: 1px;margin: -1px;overflow: hidden;padding: 0;position: absolute;width: 1px;}#sk-container-id-1 div.sk-estimator {font-family: monospace;background-color: #f0f8ff;border: 1px dotted black;border-radius: 0.25em;box-sizing: border-box;margin-bottom: 0.5em;}#sk-container-id-1 div.sk-estimator:hover {background-color: #d4ebff;}#sk-container-id-1 div.sk-parallel-item::after {content: \"\";width: 100%;border-bottom: 1px solid gray;flex-grow: 1;}#sk-container-id-1 div.sk-label:hover label.sk-toggleable__label {background-color: #d4ebff;}#sk-container-id-1 div.sk-serial::before {content: \"\";position: absolute;border-left: 1px solid gray;box-sizing: border-box;top: 0;bottom: 0;left: 50%;z-index: 0;}#sk-container-id-1 div.sk-serial {display: flex;flex-direction: column;align-items: center;background-color: white;padding-right: 0.2em;padding-left: 0.2em;position: relative;}#sk-container-id-1 div.sk-item {position: relative;z-index: 1;}#sk-container-id-1 div.sk-parallel {display: flex;align-items: stretch;justify-content: center;background-color: white;position: relative;}#sk-container-id-1 div.sk-item::before, #sk-container-id-1 div.sk-parallel-item::before {content: \"\";position: absolute;border-left: 1px solid gray;box-sizing: border-box;top: 0;bottom: 0;left: 50%;z-index: -1;}#sk-container-id-1 div.sk-parallel-item {display: flex;flex-direction: column;z-index: 1;position: relative;background-color: white;}#sk-container-id-1 div.sk-parallel-item:first-child::after {align-self: flex-end;width: 50%;}#sk-container-id-1 div.sk-parallel-item:last-child::after {align-self: flex-start;width: 50%;}#sk-container-id-1 div.sk-parallel-item:only-child::after {width: 0;}#sk-container-id-1 div.sk-dashed-wrapped {border: 1px dashed gray;margin: 0 0.4em 0.5em 0.4em;box-sizing: border-box;padding-bottom: 0.4em;background-color: white;}#sk-container-id-1 div.sk-label label {font-family: monospace;font-weight: bold;display: inline-block;line-height: 1.2em;}#sk-container-id-1 div.sk-label-container {text-align: center;}#sk-container-id-1 div.sk-container {/* jupyter's `normalize.less` sets `[hidden] { display: none; }` but bootstrap.min.css set `[hidden] { display: none !important; }` so we also need the `!important` here to be able to override the default hidden behavior on the sphinx rendered scikit-learn.org. See: https://github.com/scikit-learn/scikit-learn/issues/21755 */display: inline-block !important;position: relative;}#sk-container-id-1 div.sk-text-repr-fallback {display: none;}</style><div id=\"sk-container-id-1\" class=\"sk-top-container\"><div class=\"sk-text-repr-fallback\"><pre>RandomForestClassifier()</pre><b>In a Jupyter environment, please rerun this cell to show the HTML representation or trust the notebook. <br />On GitHub, the HTML representation is unable to render, please try loading this page with nbviewer.org.</b></div><div class=\"sk-container\" hidden><div class=\"sk-item\"><div class=\"sk-estimator sk-toggleable\"><input class=\"sk-toggleable__control sk-hidden--visually\" id=\"sk-estimator-id-1\" type=\"checkbox\" checked><label for=\"sk-estimator-id-1\" class=\"sk-toggleable__label sk-toggleable__label-arrow\">RandomForestClassifier</label><div class=\"sk-toggleable__content\"><pre>RandomForestClassifier()</pre></div></div></div></div></div>"
      ],
      "text/plain": [
       "RandomForestClassifier()"
      ]
     },
     "execution_count": 11,
     "metadata": {},
     "output_type": "execute_result"
    }
   ],
   "source": [
    "# Build and train the Random Forest Classifier\n",
    "rf_classifier = RandomForestClassifier()\n",
    "rf_classifier.fit(x_train, y_train)"
   ]
  },
  {
   "cell_type": "code",
   "execution_count": 12,
   "id": "f2f4e8e0",
   "metadata": {
    "execution": {
     "iopub.execute_input": "2023-12-07T16:00:57.033176Z",
     "iopub.status.busy": "2023-12-07T16:00:57.032567Z",
     "iopub.status.idle": "2023-12-07T16:00:57.647159Z",
     "shell.execute_reply": "2023-12-07T16:00:57.646061Z"
    },
    "papermill": {
     "duration": 0.624748,
     "end_time": "2023-12-07T16:00:57.649970",
     "exception": false,
     "start_time": "2023-12-07T16:00:57.025222",
     "status": "completed"
    },
    "tags": []
   },
   "outputs": [],
   "source": [
    "# Make predictions on the test set\n",
    "y_pred = rf_classifier.predict(x_test)"
   ]
  },
  {
   "cell_type": "code",
   "execution_count": 13,
   "id": "2088e8ba",
   "metadata": {
    "execution": {
     "iopub.execute_input": "2023-12-07T16:00:57.664126Z",
     "iopub.status.busy": "2023-12-07T16:00:57.663766Z",
     "iopub.status.idle": "2023-12-07T16:00:57.668055Z",
     "shell.execute_reply": "2023-12-07T16:00:57.667408Z"
    },
    "papermill": {
     "duration": 0.014256,
     "end_time": "2023-12-07T16:00:57.670580",
     "exception": false,
     "start_time": "2023-12-07T16:00:57.656324",
     "status": "completed"
    },
    "tags": []
   },
   "outputs": [
    {
     "name": "stdout",
     "output_type": "stream",
     "text": [
      "\n",
      "Model Evaluation:\n",
      "The model used is Random Forest Classifier\n"
     ]
    }
   ],
   "source": [
    "# Evaluate the classifier\n",
    "print(\"\\nModel Evaluation:\")\n",
    "print(\"The model used is Random Forest Classifier\")"
   ]
  },
  {
   "cell_type": "code",
   "execution_count": 14,
   "id": "b130da2f",
   "metadata": {
    "execution": {
     "iopub.execute_input": "2023-12-07T16:00:57.685502Z",
     "iopub.status.busy": "2023-12-07T16:00:57.684839Z",
     "iopub.status.idle": "2023-12-07T16:00:57.762379Z",
     "shell.execute_reply": "2023-12-07T16:00:57.761138Z"
    },
    "papermill": {
     "duration": 0.08776,
     "end_time": "2023-12-07T16:00:57.764831",
     "exception": false,
     "start_time": "2023-12-07T16:00:57.677071",
     "status": "completed"
    },
    "tags": []
   },
   "outputs": [
    {
     "name": "stdout",
     "output_type": "stream",
     "text": [
      "\n",
      "Model Evaluation:\n",
      "The model used is Random Forest Classifier\n"
     ]
    }
   ],
   "source": [
    "# Evaluate the classifier\n",
    "print(\"\\nModel Evaluation:\")\n",
    "print(\"The model used is Random Forest Classifier\")\n",
    "\n",
    "accuracy = accuracy_score(y_test, y_pred)\n",
    "precision = precision_score(y_test, y_pred)\n",
    "recall = recall_score(y_test, y_pred)\n",
    "f1 = f1_score(y_test, y_pred)\n",
    "mcc = matthews_corrcoef(y_test, y_pred)"
   ]
  },
  {
   "cell_type": "code",
   "execution_count": 15,
   "id": "4a3cd64f",
   "metadata": {
    "execution": {
     "iopub.execute_input": "2023-12-07T16:00:57.779828Z",
     "iopub.status.busy": "2023-12-07T16:00:57.779453Z",
     "iopub.status.idle": "2023-12-07T16:00:57.858925Z",
     "shell.execute_reply": "2023-12-07T16:00:57.857489Z"
    },
    "papermill": {
     "duration": 0.089349,
     "end_time": "2023-12-07T16:00:57.861222",
     "exception": false,
     "start_time": "2023-12-07T16:00:57.771873",
     "status": "completed"
    },
    "tags": []
   },
   "outputs": [
    {
     "name": "stdout",
     "output_type": "stream",
     "text": [
      "\n",
      "Model Evaluation:\n",
      "The model used is Random Forest Classifier\n",
      "Accuracy: 0.9996\n",
      "Precision: 0.9740\n",
      "Recall: 0.7653\n",
      "F1-Score: 0.8571\n",
      "Matthews Correlation Coefficient: 0.8632\n"
     ]
    }
   ],
   "source": [
    "# Evaluate the classifier\n",
    "print(\"\\nModel Evaluation:\")\n",
    "print(\"The model used is Random Forest Classifier\")\n",
    "\n",
    "accuracy = accuracy_score(y_test, y_pred)\n",
    "precision = precision_score(y_test, y_pred)\n",
    "recall = recall_score(y_test, y_pred)\n",
    "f1 = f1_score(y_test, y_pred)\n",
    "mcc = matthews_corrcoef(y_test, y_pred)\n",
    "\n",
    "print(\"Accuracy: {:.4f}\".format(accuracy))\n",
    "print(\"Precision: {:.4f}\".format(precision))\n",
    "print(\"Recall: {:.4f}\".format(recall))\n",
    "print(\"F1-Score: {:.4f}\".format(f1))\n",
    "print(\"Matthews Correlation Coefficient: {:.4f}\".format(mcc))"
   ]
  },
  {
   "cell_type": "code",
   "execution_count": 16,
   "id": "cdda9333",
   "metadata": {
    "execution": {
     "iopub.execute_input": "2023-12-07T16:00:57.875625Z",
     "iopub.status.busy": "2023-12-07T16:00:57.875250Z",
     "iopub.status.idle": "2023-12-07T16:00:58.150708Z",
     "shell.execute_reply": "2023-12-07T16:00:58.149429Z"
    },
    "papermill": {
     "duration": 0.28511,
     "end_time": "2023-12-07T16:00:58.152947",
     "exception": false,
     "start_time": "2023-12-07T16:00:57.867837",
     "status": "completed"
    },
    "tags": []
   },
   "outputs": [
    {
     "data": {
      "image/png": "[encoded data removed]",
      "text/plain": [
       "<Figure size 1200x1200 with 2 Axes>"
      ]
     },
     "metadata": {},
     "output_type": "display_data"
    }
   ],
   "source": [
    "# Display the confusion matrix with differentiated colors\n",
    "labels = ['Normal', 'Fraud']\n",
    "conf_matrix = confusion_matrix(y_test, y_pred)\n",
    "\n",
    "plt.figure(figsize=(12, 12))\n",
    "sns.heatmap(conf_matrix, xticklabels=labels, yticklabels=labels, annot=True, fmt=\"d\", cmap=\"Blues\")  # You can change \"Blues\" to another colormap\n",
    "plt.title(\"Confusion Matrix\")\n",
    "plt.ylabel('True class')\n",
    "plt.xlabel('Predicted class')\n",
    "plt.show()"
   ]
  },
  {
   "cell_type": "markdown",
   "id": "ac07af0c",
   "metadata": {
    "papermill": {
     "duration": 0.006669,
     "end_time": "2023-12-07T16:00:58.166827",
     "exception": false,
     "start_time": "2023-12-07T16:00:58.160158",
     "status": "completed"
    },
    "tags": []
   },
   "source": [
    "THE END"
   ]
  }
 ],
 "metadata": {
  "kaggle": {
   "accelerator": "none",
   "dataSources": [
    {
     "datasetId": 310,
     "sourceId": 23498,
     "sourceType": "datasetVersion"
    }
   ],
   "dockerImageVersionId": 30615,
   "isGpuEnabled": false,
   "isInternetEnabled": true,
   "language": "python",
   "sourceType": "notebook"
  },
  "kernelspec": {
   "display_name": "Python 3",
   "language": "python",
   "name": "python3"
  },
  "language_info": {
   "codemirror_mode": {
    "name": "ipython",
    "version": 3
   },
   "file_extension": ".py",
   "mimetype": "text/x-python",
   "name": "python",
   "nbconvert_exporter": "python",
   "pygments_lexer": "ipython3",
   "version": "3.10.12"
  },
  "papermill": {
   "default_parameters": {},
   "duration": 283.574624,
   "end_time": "2023-12-07T16:00:58.794538",
   "environment_variables": {},
   "exception": null,
   "input_path": "__notebook__.ipynb",
   "output_path": "__notebook__.ipynb",
   "parameters": {},
   "start_time": "2023-12-07T15:56:15.219914",
   "version": "2.4.0"
  }
 },
 "nbformat": 4,
 "nbformat_minor": 5
}
